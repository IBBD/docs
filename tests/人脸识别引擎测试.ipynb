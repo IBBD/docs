{
 "cells": [
  {
   "cell_type": "markdown",
   "metadata": {},
   "source": [
    "# 人脸识别引擎测试"
   ]
  },
  {
   "cell_type": "markdown",
   "metadata": {},
   "source": [
    "引擎接口文档：http://192.168.1.242:20900/docs\n",
    "\n",
    "需要先安装工具库，具体见：https://github.com/ibbd-dev/python-image-utils"
   ]
  },
  {
   "cell_type": "markdown",
   "metadata": {},
   "source": [
    "## 01 人脸检测"
   ]
  },
  {
   "cell_type": "code",
   "execution_count": null,
   "metadata": {},
   "outputs": [],
   "source": [
    "import requests\n",
    "import cv2\n",
    "from image_utils.convert import cv2_base64, cv2_pil, base64_pil\n",
    "from IPython.display import display\n",
    "\n",
    "url = 'http://192.168.1.242:20900/images/detect'\n",
    "img_file = 'test01.jpg'    # 测试图像\n",
    "img1 = cv2.imread(img_file)\n",
    "img1 = cv2.cvtColor(img1, cv2.COLOR_BGR2RGB)\n",
    "# display(cv2_pil(img1))\n",
    "\n",
    "img_file = 'test02.jpg'    # 测试图像\n",
    "img2 = cv2.imread(img_file)\n",
    "img2 = cv2.cvtColor(img2, cv2.COLOR_BGR2RGB)\n",
    "# display(cv2_pil(img2))\n",
    "\n",
    "images = [img1, img2]\n",
    "body = {\n",
    "    'images': [cv2_base64(img) for img in images],\n",
    "    'align': True,\n",
    "    # 'threshold': 0.6,\n",
    "}\n",
    "data = requests.post(url, json=body).json()\n",
    "\n",
    "for img, img_data in zip(images, data):\n",
    "    for face in img_data['faces']:\n",
    "        display(base64_pil(face['face']))\n",
    "        x, y, xb, yb = [int(i) for i in face['box']]\n",
    "        cv2.rectangle(img, (x, y), (xb, yb), (0,0,255), 2) \n",
    "        for p in face['landmarks']:\n",
    "            cx, cy = p\n",
    "            cv2.circle(img, (int(cx), int(cy)), 3, (0,0,255), -1)\n",
    "        \n",
    "    display(cv2_pil(img))"
   ]
  },
  {
   "cell_type": "markdown",
   "metadata": {},
   "source": [
    "## 02 人脸识别"
   ]
  },
  {
   "cell_type": "code",
   "execution_count": null,
   "metadata": {},
   "outputs": [],
   "source": [
    "# 人脸识别\n",
    "import numpy as np\n",
    "\n",
    "url = 'http://192.168.1.242:20900/images/recognize'\n",
    "body = {\n",
    "    'faces': [face['face'] for face in data[0]['faces']]+[face['face'] for face in data[1]['faces']]\n",
    "}\n",
    "data2 = requests.post(url, json=body).json()\n",
    "\n",
    "diff = np.subtract(data2[0]['embedding'], data2[1]['embedding'])\n",
    "dist = np.linalg.norm(diff)\n",
    "print(dist)"
   ]
  }
 ],
 "metadata": {
  "kernelspec": {
   "display_name": "Python 3",
   "language": "python",
   "name": "python3"
  },
  "language_info": {
   "codemirror_mode": {
    "name": "ipython",
    "version": 3
   },
   "file_extension": ".py",
   "mimetype": "text/x-python",
   "name": "python",
   "nbconvert_exporter": "python",
   "pygments_lexer": "ipython3",
   "version": "3.6.9"
  }
 },
 "nbformat": 4,
 "nbformat_minor": 4
}
