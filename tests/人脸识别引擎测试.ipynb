{
 "cells": [
  {
   "cell_type": "markdown",
   "metadata": {},
   "source": [
    "# 人脸识别引擎测试"
   ]
  },
  {
   "cell_type": "markdown",
   "metadata": {},
   "source": [
    "引擎接口文档：http://192.168.80.244:20900/docs"
   ]
  },
  {
   "cell_type": "markdown",
   "metadata": {},
   "source": [
    "## 01 人脸检测"
   ]
  },
  {
   "cell_type": "code",
   "execution_count": null,
   "metadata": {},
   "outputs": [],
   "source": [
    "import requests\n",
    "import cv2\n",
    "from image_utils.convert import cv2_base64, cv2_pil, base64_pil\n",
    "from IPython.display import display\n",
    "\n",
    "url = 'http://192.168.80.244:20900/images/detect'\n",
    "img_file = 'images/2019-12-25-01.png'\n",
    "img_file = 'images/wj09.png'\n",
    "img_file = 'images/wj04.png'\n",
    "img_file = 'images/timg18.jpeg'\n",
    "#img_file = 'images/wj.jpg'\n",
    "img = cv2.imread(img_file)\n",
    "# display(cv2_pil(img[:,:,::-1]))\n",
    "body = {\n",
    "    'images': [cv2_base64(img)],\n",
    "    'align': True,\n",
    "    # 'threshold': 0.6,\n",
    "}\n",
    "data = requests.post(url, json=body).json()\n",
    "\n",
    "print(data[0]['scores'])\n",
    "for box, landmark, face in zip(data[0]['boxes'], data[0]['landmarks'], data[0]['faces']):\n",
    "    display(base64_pil(face))\n",
    "    x, y, xb, yb = [int(i) for i in box]\n",
    "    cv2.rectangle(img, (x, y), (xb, yb), (0,0,255), 2) \n",
    "    for p in landmark:\n",
    "        cx, cy = p\n",
    "        cv2.circle(img, (int(cx), int(cy)), 3, (0,0,255), -1)\n",
    "        \n",
    "display(cv2_pil(img[:,:,::-1]))"
   ]
  },
  {
   "cell_type": "markdown",
   "metadata": {},
   "source": [
    "## 02 人脸识别"
   ]
  },
  {
   "cell_type": "code",
   "execution_count": null,
   "metadata": {},
   "outputs": [],
   "source": [
    "# 人脸识别\n",
    "url = 'http://192.168.80.244:20900/images/recognize'\n",
    "body = {\n",
    "    'faces': data[0]['faces']\n",
    "}\n",
    "data2 = requests.post(url, json=body).json()\n",
    "print(data2)"
   ]
  }
 ],
 "metadata": {
  "kernelspec": {
   "display_name": "Python 3",
   "language": "python",
   "name": "python3"
  },
  "language_info": {
   "codemirror_mode": {
    "name": "ipython",
    "version": 3
   },
   "file_extension": ".py",
   "mimetype": "text/x-python",
   "name": "python",
   "nbconvert_exporter": "python",
   "pygments_lexer": "ipython3",
   "version": "3.6.9"
  }
 },
 "nbformat": 4,
 "nbformat_minor": 4
}
